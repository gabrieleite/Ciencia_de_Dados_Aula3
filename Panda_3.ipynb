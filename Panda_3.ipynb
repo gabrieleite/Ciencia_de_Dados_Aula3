{
  "nbformat": 4,
  "nbformat_minor": 0,
  "metadata": {
    "colab": {
      "name": "Panda_3.ipynb",
      "provenance": [],
      "collapsed_sections": [],
      "authorship_tag": "ABX9TyOTbZGNjr1g4Hldd0GmsD3s",
      "include_colab_link": true
    },
    "kernelspec": {
      "name": "python3",
      "display_name": "Python 3"
    },
    "language_info": {
      "name": "python"
    }
  },
  "cells": [
    {
      "cell_type": "markdown",
      "metadata": {
        "id": "view-in-github",
        "colab_type": "text"
      },
      "source": [
        "<a href=\"https://colab.research.google.com/github/gabrieleite/Ciencia_de_Dados_Aula3/blob/main/Panda_3.ipynb\" target=\"_parent\"><img src=\"https://colab.research.google.com/assets/colab-badge.svg\" alt=\"Open In Colab\"/></a>"
      ]
    },
    {
      "cell_type": "markdown",
      "source": [
        "#Estatísticas com Panda\n",
        "\n",
        "\n",
        "*   Média\n",
        "* Mediana\n",
        "* Moda \n",
        "* Desvio Padrão (Std)\n",
        "\n",
        "\n",
        "\n",
        "\n",
        "\n",
        "\n",
        "\n",
        "\n",
        "\n"
      ],
      "metadata": {
        "id": "IsWNxq2UU2sY"
      }
    },
    {
      "cell_type": "code",
      "source": [
        "import pandas as pd"
      ],
      "metadata": {
        "id": "nkgk95cSVJop"
      },
      "execution_count": null,
      "outputs": []
    },
    {
      "cell_type": "code",
      "source": [
        "corona = pd.read_csv('http://emsapi.esy.es/datasets/covid_19_data.csv', index_col=0)"
      ],
      "metadata": {
        "id": "jCrP1q5UVOzK"
      },
      "execution_count": null,
      "outputs": []
    },
    {
      "cell_type": "code",
      "source": [
        "#Inspeção do DataFrame\n",
        "corona.head()"
      ],
      "metadata": {
        "colab": {
          "base_uri": "https://localhost:8080/",
          "height": 386
        },
        "id": "CffBwC0hWCrf",
        "outputId": "bcb17fa8-c9ad-4695-cbdd-a528f4eda60c"
      },
      "execution_count": null,
      "outputs": [
        {
          "output_type": "execute_result",
          "data": {
            "text/plain": [
              "    ObservationDate Province/State  Country/Region      Last Update  \\\n",
              "SNo                                                                   \n",
              "1        01/22/2020          Anhui  Mainland China  1/22/2020 17:00   \n",
              "2        01/22/2020        Beijing  Mainland China  1/22/2020 17:00   \n",
              "3        01/22/2020      Chongqing  Mainland China  1/22/2020 17:00   \n",
              "4        01/22/2020         Fujian  Mainland China  1/22/2020 17:00   \n",
              "5        01/22/2020          Gansu  Mainland China  1/22/2020 17:00   \n",
              "\n",
              "     Confirmed  Deaths  Recovered  \n",
              "SNo                                \n",
              "1          1.0     0.0        0.0  \n",
              "2         14.0     0.0        0.0  \n",
              "3          6.0     0.0        0.0  \n",
              "4          1.0     0.0        0.0  \n",
              "5          0.0     0.0        0.0  "
            ],
            "text/html": [
              "\n",
              "  <div id=\"df-560f299a-646d-4f59-b3df-31c028f57fa3\">\n",
              "    <div class=\"colab-df-container\">\n",
              "      <div>\n",
              "<style scoped>\n",
              "    .dataframe tbody tr th:only-of-type {\n",
              "        vertical-align: middle;\n",
              "    }\n",
              "\n",
              "    .dataframe tbody tr th {\n",
              "        vertical-align: top;\n",
              "    }\n",
              "\n",
              "    .dataframe thead th {\n",
              "        text-align: right;\n",
              "    }\n",
              "</style>\n",
              "<table border=\"1\" class=\"dataframe\">\n",
              "  <thead>\n",
              "    <tr style=\"text-align: right;\">\n",
              "      <th></th>\n",
              "      <th>ObservationDate</th>\n",
              "      <th>Province/State</th>\n",
              "      <th>Country/Region</th>\n",
              "      <th>Last Update</th>\n",
              "      <th>Confirmed</th>\n",
              "      <th>Deaths</th>\n",
              "      <th>Recovered</th>\n",
              "    </tr>\n",
              "    <tr>\n",
              "      <th>SNo</th>\n",
              "      <th></th>\n",
              "      <th></th>\n",
              "      <th></th>\n",
              "      <th></th>\n",
              "      <th></th>\n",
              "      <th></th>\n",
              "      <th></th>\n",
              "    </tr>\n",
              "  </thead>\n",
              "  <tbody>\n",
              "    <tr>\n",
              "      <th>1</th>\n",
              "      <td>01/22/2020</td>\n",
              "      <td>Anhui</td>\n",
              "      <td>Mainland China</td>\n",
              "      <td>1/22/2020 17:00</td>\n",
              "      <td>1.0</td>\n",
              "      <td>0.0</td>\n",
              "      <td>0.0</td>\n",
              "    </tr>\n",
              "    <tr>\n",
              "      <th>2</th>\n",
              "      <td>01/22/2020</td>\n",
              "      <td>Beijing</td>\n",
              "      <td>Mainland China</td>\n",
              "      <td>1/22/2020 17:00</td>\n",
              "      <td>14.0</td>\n",
              "      <td>0.0</td>\n",
              "      <td>0.0</td>\n",
              "    </tr>\n",
              "    <tr>\n",
              "      <th>3</th>\n",
              "      <td>01/22/2020</td>\n",
              "      <td>Chongqing</td>\n",
              "      <td>Mainland China</td>\n",
              "      <td>1/22/2020 17:00</td>\n",
              "      <td>6.0</td>\n",
              "      <td>0.0</td>\n",
              "      <td>0.0</td>\n",
              "    </tr>\n",
              "    <tr>\n",
              "      <th>4</th>\n",
              "      <td>01/22/2020</td>\n",
              "      <td>Fujian</td>\n",
              "      <td>Mainland China</td>\n",
              "      <td>1/22/2020 17:00</td>\n",
              "      <td>1.0</td>\n",
              "      <td>0.0</td>\n",
              "      <td>0.0</td>\n",
              "    </tr>\n",
              "    <tr>\n",
              "      <th>5</th>\n",
              "      <td>01/22/2020</td>\n",
              "      <td>Gansu</td>\n",
              "      <td>Mainland China</td>\n",
              "      <td>1/22/2020 17:00</td>\n",
              "      <td>0.0</td>\n",
              "      <td>0.0</td>\n",
              "      <td>0.0</td>\n",
              "    </tr>\n",
              "  </tbody>\n",
              "</table>\n",
              "</div>\n",
              "      <button class=\"colab-df-convert\" onclick=\"convertToInteractive('df-560f299a-646d-4f59-b3df-31c028f57fa3')\"\n",
              "              title=\"Convert this dataframe to an interactive table.\"\n",
              "              style=\"display:none;\">\n",
              "        \n",
              "  <svg xmlns=\"http://www.w3.org/2000/svg\" height=\"24px\"viewBox=\"0 0 24 24\"\n",
              "       width=\"24px\">\n",
              "    <path d=\"M0 0h24v24H0V0z\" fill=\"none\"/>\n",
              "    <path d=\"M18.56 5.44l.94 2.06.94-2.06 2.06-.94-2.06-.94-.94-2.06-.94 2.06-2.06.94zm-11 1L8.5 8.5l.94-2.06 2.06-.94-2.06-.94L8.5 2.5l-.94 2.06-2.06.94zm10 10l.94 2.06.94-2.06 2.06-.94-2.06-.94-.94-2.06-.94 2.06-2.06.94z\"/><path d=\"M17.41 7.96l-1.37-1.37c-.4-.4-.92-.59-1.43-.59-.52 0-1.04.2-1.43.59L10.3 9.45l-7.72 7.72c-.78.78-.78 2.05 0 2.83L4 21.41c.39.39.9.59 1.41.59.51 0 1.02-.2 1.41-.59l7.78-7.78 2.81-2.81c.8-.78.8-2.07 0-2.86zM5.41 20L4 18.59l7.72-7.72 1.47 1.35L5.41 20z\"/>\n",
              "  </svg>\n",
              "      </button>\n",
              "      \n",
              "  <style>\n",
              "    .colab-df-container {\n",
              "      display:flex;\n",
              "      flex-wrap:wrap;\n",
              "      gap: 12px;\n",
              "    }\n",
              "\n",
              "    .colab-df-convert {\n",
              "      background-color: #E8F0FE;\n",
              "      border: none;\n",
              "      border-radius: 50%;\n",
              "      cursor: pointer;\n",
              "      display: none;\n",
              "      fill: #1967D2;\n",
              "      height: 32px;\n",
              "      padding: 0 0 0 0;\n",
              "      width: 32px;\n",
              "    }\n",
              "\n",
              "    .colab-df-convert:hover {\n",
              "      background-color: #E2EBFA;\n",
              "      box-shadow: 0px 1px 2px rgba(60, 64, 67, 0.3), 0px 1px 3px 1px rgba(60, 64, 67, 0.15);\n",
              "      fill: #174EA6;\n",
              "    }\n",
              "\n",
              "    [theme=dark] .colab-df-convert {\n",
              "      background-color: #3B4455;\n",
              "      fill: #D2E3FC;\n",
              "    }\n",
              "\n",
              "    [theme=dark] .colab-df-convert:hover {\n",
              "      background-color: #434B5C;\n",
              "      box-shadow: 0px 1px 3px 1px rgba(0, 0, 0, 0.15);\n",
              "      filter: drop-shadow(0px 1px 2px rgba(0, 0, 0, 0.3));\n",
              "      fill: #FFFFFF;\n",
              "    }\n",
              "  </style>\n",
              "\n",
              "      <script>\n",
              "        const buttonEl =\n",
              "          document.querySelector('#df-560f299a-646d-4f59-b3df-31c028f57fa3 button.colab-df-convert');\n",
              "        buttonEl.style.display =\n",
              "          google.colab.kernel.accessAllowed ? 'block' : 'none';\n",
              "\n",
              "        async function convertToInteractive(key) {\n",
              "          const element = document.querySelector('#df-560f299a-646d-4f59-b3df-31c028f57fa3');\n",
              "          const dataTable =\n",
              "            await google.colab.kernel.invokeFunction('convertToInteractive',\n",
              "                                                     [key], {});\n",
              "          if (!dataTable) return;\n",
              "\n",
              "          const docLinkHtml = 'Like what you see? Visit the ' +\n",
              "            '<a target=\"_blank\" href=https://colab.research.google.com/notebooks/data_table.ipynb>data table notebook</a>'\n",
              "            + ' to learn more about interactive tables.';\n",
              "          element.innerHTML = '';\n",
              "          dataTable['output_type'] = 'display_data';\n",
              "          await google.colab.output.renderOutput(dataTable, element);\n",
              "          const docLink = document.createElement('div');\n",
              "          docLink.innerHTML = docLinkHtml;\n",
              "          element.appendChild(docLink);\n",
              "        }\n",
              "      </script>\n",
              "    </div>\n",
              "  </div>\n",
              "  "
            ]
          },
          "metadata": {},
          "execution_count": 4
        }
      ]
    },
    {
      "cell_type": "code",
      "source": [
        "corona.shape"
      ],
      "metadata": {
        "colab": {
          "base_uri": "https://localhost:8080/"
        },
        "id": "oLhWQ7FJTmCJ",
        "outputId": "1616f2ba-ce75-47e2-e7ba-9fc1f8ce8a2e"
      },
      "execution_count": null,
      "outputs": [
        {
          "output_type": "execute_result",
          "data": {
            "text/plain": [
              "(98252, 7)"
            ]
          },
          "metadata": {},
          "execution_count": 3
        }
      ]
    },
    {
      "cell_type": "code",
      "source": [
        "corona.info()"
      ],
      "metadata": {
        "colab": {
          "base_uri": "https://localhost:8080/"
        },
        "id": "Z83wqGfPWJHg",
        "outputId": "fe411082-94c5-4cd7-9633-cd395a9d13cc"
      },
      "execution_count": null,
      "outputs": [
        {
          "output_type": "stream",
          "name": "stdout",
          "text": [
            "<class 'pandas.core.frame.DataFrame'>\n",
            "Int64Index: 98252 entries, 1 to 98252\n",
            "Data columns (total 7 columns):\n",
            " #   Column           Non-Null Count  Dtype  \n",
            "---  ------           --------------  -----  \n",
            " 0   ObservationDate  98252 non-null  object \n",
            " 1   Province/State   67099 non-null  object \n",
            " 2   Country/Region   98252 non-null  object \n",
            " 3   Last Update      98252 non-null  object \n",
            " 4   Confirmed        98252 non-null  float64\n",
            " 5   Deaths           98252 non-null  float64\n",
            " 6   Recovered        98252 non-null  float64\n",
            "dtypes: float64(3), object(4)\n",
            "memory usage: 6.0+ MB\n"
          ]
        }
      ]
    },
    {
      "cell_type": "code",
      "source": [
        "#Estatísticas básicas com pandas\n",
        "corona.describe()"
      ],
      "metadata": {
        "colab": {
          "base_uri": "https://localhost:8080/",
          "height": 282
        },
        "id": "Hzr94zGjWLmE",
        "outputId": "cc0e7829-5e66-4eb2-fe2f-116ea31075cc"
      },
      "execution_count": null,
      "outputs": [
        {
          "output_type": "execute_result",
          "data": {
            "text/plain": [
              "           Confirmed        Deaths     Recovered\n",
              "count   98252.000000  98252.000000  9.825200e+04\n",
              "mean    15442.707232    692.502310  8.392821e+03\n",
              "std     46813.313272   2712.094164  4.751247e+04\n",
              "min         0.000000      0.000000  0.000000e+00\n",
              "25%       181.000000      2.000000  2.000000e+00\n",
              "50%      1622.000000     31.000000  2.870000e+02\n",
              "75%      8301.250000    264.000000  2.850000e+03\n",
              "max    801422.000000  42072.000000  2.140614e+06"
            ],
            "text/html": [
              "\n",
              "  <div id=\"df-a46191ab-826a-46e1-af7f-322c093d6b4b\">\n",
              "    <div class=\"colab-df-container\">\n",
              "      <div>\n",
              "<style scoped>\n",
              "    .dataframe tbody tr th:only-of-type {\n",
              "        vertical-align: middle;\n",
              "    }\n",
              "\n",
              "    .dataframe tbody tr th {\n",
              "        vertical-align: top;\n",
              "    }\n",
              "\n",
              "    .dataframe thead th {\n",
              "        text-align: right;\n",
              "    }\n",
              "</style>\n",
              "<table border=\"1\" class=\"dataframe\">\n",
              "  <thead>\n",
              "    <tr style=\"text-align: right;\">\n",
              "      <th></th>\n",
              "      <th>Confirmed</th>\n",
              "      <th>Deaths</th>\n",
              "      <th>Recovered</th>\n",
              "    </tr>\n",
              "  </thead>\n",
              "  <tbody>\n",
              "    <tr>\n",
              "      <th>count</th>\n",
              "      <td>98252.000000</td>\n",
              "      <td>98252.000000</td>\n",
              "      <td>9.825200e+04</td>\n",
              "    </tr>\n",
              "    <tr>\n",
              "      <th>mean</th>\n",
              "      <td>15442.707232</td>\n",
              "      <td>692.502310</td>\n",
              "      <td>8.392821e+03</td>\n",
              "    </tr>\n",
              "    <tr>\n",
              "      <th>std</th>\n",
              "      <td>46813.313272</td>\n",
              "      <td>2712.094164</td>\n",
              "      <td>4.751247e+04</td>\n",
              "    </tr>\n",
              "    <tr>\n",
              "      <th>min</th>\n",
              "      <td>0.000000</td>\n",
              "      <td>0.000000</td>\n",
              "      <td>0.000000e+00</td>\n",
              "    </tr>\n",
              "    <tr>\n",
              "      <th>25%</th>\n",
              "      <td>181.000000</td>\n",
              "      <td>2.000000</td>\n",
              "      <td>2.000000e+00</td>\n",
              "    </tr>\n",
              "    <tr>\n",
              "      <th>50%</th>\n",
              "      <td>1622.000000</td>\n",
              "      <td>31.000000</td>\n",
              "      <td>2.870000e+02</td>\n",
              "    </tr>\n",
              "    <tr>\n",
              "      <th>75%</th>\n",
              "      <td>8301.250000</td>\n",
              "      <td>264.000000</td>\n",
              "      <td>2.850000e+03</td>\n",
              "    </tr>\n",
              "    <tr>\n",
              "      <th>max</th>\n",
              "      <td>801422.000000</td>\n",
              "      <td>42072.000000</td>\n",
              "      <td>2.140614e+06</td>\n",
              "    </tr>\n",
              "  </tbody>\n",
              "</table>\n",
              "</div>\n",
              "      <button class=\"colab-df-convert\" onclick=\"convertToInteractive('df-a46191ab-826a-46e1-af7f-322c093d6b4b')\"\n",
              "              title=\"Convert this dataframe to an interactive table.\"\n",
              "              style=\"display:none;\">\n",
              "        \n",
              "  <svg xmlns=\"http://www.w3.org/2000/svg\" height=\"24px\"viewBox=\"0 0 24 24\"\n",
              "       width=\"24px\">\n",
              "    <path d=\"M0 0h24v24H0V0z\" fill=\"none\"/>\n",
              "    <path d=\"M18.56 5.44l.94 2.06.94-2.06 2.06-.94-2.06-.94-.94-2.06-.94 2.06-2.06.94zm-11 1L8.5 8.5l.94-2.06 2.06-.94-2.06-.94L8.5 2.5l-.94 2.06-2.06.94zm10 10l.94 2.06.94-2.06 2.06-.94-2.06-.94-.94-2.06-.94 2.06-2.06.94z\"/><path d=\"M17.41 7.96l-1.37-1.37c-.4-.4-.92-.59-1.43-.59-.52 0-1.04.2-1.43.59L10.3 9.45l-7.72 7.72c-.78.78-.78 2.05 0 2.83L4 21.41c.39.39.9.59 1.41.59.51 0 1.02-.2 1.41-.59l7.78-7.78 2.81-2.81c.8-.78.8-2.07 0-2.86zM5.41 20L4 18.59l7.72-7.72 1.47 1.35L5.41 20z\"/>\n",
              "  </svg>\n",
              "      </button>\n",
              "      \n",
              "  <style>\n",
              "    .colab-df-container {\n",
              "      display:flex;\n",
              "      flex-wrap:wrap;\n",
              "      gap: 12px;\n",
              "    }\n",
              "\n",
              "    .colab-df-convert {\n",
              "      background-color: #E8F0FE;\n",
              "      border: none;\n",
              "      border-radius: 50%;\n",
              "      cursor: pointer;\n",
              "      display: none;\n",
              "      fill: #1967D2;\n",
              "      height: 32px;\n",
              "      padding: 0 0 0 0;\n",
              "      width: 32px;\n",
              "    }\n",
              "\n",
              "    .colab-df-convert:hover {\n",
              "      background-color: #E2EBFA;\n",
              "      box-shadow: 0px 1px 2px rgba(60, 64, 67, 0.3), 0px 1px 3px 1px rgba(60, 64, 67, 0.15);\n",
              "      fill: #174EA6;\n",
              "    }\n",
              "\n",
              "    [theme=dark] .colab-df-convert {\n",
              "      background-color: #3B4455;\n",
              "      fill: #D2E3FC;\n",
              "    }\n",
              "\n",
              "    [theme=dark] .colab-df-convert:hover {\n",
              "      background-color: #434B5C;\n",
              "      box-shadow: 0px 1px 3px 1px rgba(0, 0, 0, 0.15);\n",
              "      filter: drop-shadow(0px 1px 2px rgba(0, 0, 0, 0.3));\n",
              "      fill: #FFFFFF;\n",
              "    }\n",
              "  </style>\n",
              "\n",
              "      <script>\n",
              "        const buttonEl =\n",
              "          document.querySelector('#df-a46191ab-826a-46e1-af7f-322c093d6b4b button.colab-df-convert');\n",
              "        buttonEl.style.display =\n",
              "          google.colab.kernel.accessAllowed ? 'block' : 'none';\n",
              "\n",
              "        async function convertToInteractive(key) {\n",
              "          const element = document.querySelector('#df-a46191ab-826a-46e1-af7f-322c093d6b4b');\n",
              "          const dataTable =\n",
              "            await google.colab.kernel.invokeFunction('convertToInteractive',\n",
              "                                                     [key], {});\n",
              "          if (!dataTable) return;\n",
              "\n",
              "          const docLinkHtml = 'Like what you see? Visit the ' +\n",
              "            '<a target=\"_blank\" href=https://colab.research.google.com/notebooks/data_table.ipynb>data table notebook</a>'\n",
              "            + ' to learn more about interactive tables.';\n",
              "          element.innerHTML = '';\n",
              "          dataTable['output_type'] = 'display_data';\n",
              "          await google.colab.output.renderOutput(dataTable, element);\n",
              "          const docLink = document.createElement('div');\n",
              "          docLink.innerHTML = docLinkHtml;\n",
              "          element.appendChild(docLink);\n",
              "        }\n",
              "      </script>\n",
              "    </div>\n",
              "  </div>\n",
              "  "
            ]
          },
          "metadata": {},
          "execution_count": 6
        }
      ]
    },
    {
      "cell_type": "code",
      "source": [
        "# Métodos do Pandas\n",
        "print('Média mean()', corona['Confirmed'].mean())\n",
        "print('Soma sum()', corona['Confirmed'].sum())\n",
        "print('Mediana median()', corona['Confirmed'].median())\n",
        "print('Moda mode()', corona['Confirmed'].mode())\n",
        "print('Desvio Padrão std()', corona['Confirmed'].std())\n",
        "print('Mínimo min()', corona['Confirmed'].min())\n",
        "print('Máximo max()', corona['Confirmed'].max())"
      ],
      "metadata": {
        "colab": {
          "base_uri": "https://localhost:8080/"
        },
        "id": "6JRc8BMYYhRY",
        "outputId": "2c8b51ac-6edf-4abb-c748-060bceb1de0a"
      },
      "execution_count": null,
      "outputs": [
        {
          "output_type": "stream",
          "name": "stdout",
          "text": [
            "Média mean() 15442.70723242275\n",
            "Soma sum() 1517276871.0\n",
            "Mediana median() 1622.0\n",
            "Moda mode() 0    1.0\n",
            "dtype: float64\n",
            "Desvio Padrão std() 46813.31327228468\n",
            "Mínimo min() 0.0\n",
            "Máximo max() 801422.0\n"
          ]
        }
      ]
    },
    {
      "cell_type": "code",
      "source": [
        "# Agregando uma coluna de resultados\n",
        "corona['Confirmed + Deaths'] = corona['Confirmed'] + corona['Deaths']"
      ],
      "metadata": {
        "id": "VhMUot2kemZJ"
      },
      "execution_count": null,
      "outputs": []
    },
    {
      "cell_type": "code",
      "source": [
        "# Elaborar uma algoritmo que mostre as estatísticas das colunas de um DataFrame\n",
        "colunas = ['Confirmed', 'Deaths', 'Recovered', 'Confirmed + Deaths']\n",
        "\n",
        "# Percorrer todas as colunas do DataFrame \n",
        "for coluna in colunas:\n",
        "  print('Coluna: ', coluna)\n",
        "  print('Média mean()', corona[coluna].mean())\n",
        "  print('Soma sum()', corona[coluna].sum())\n",
        "  print('Mediana median()', corona[coluna].median())\n",
        "  #print('Moda mode()', corona[coluna].mode())\n",
        "  print('Desvio Padrão std()', corona[coluna].std())\n",
        "  print('Mínimo min()', corona[coluna].min())\n",
        "  print('Máximo max()', corona[coluna].max())\n",
        "  print('\\n')"
      ],
      "metadata": {
        "colab": {
          "base_uri": "https://localhost:8080/"
        },
        "id": "D6SDEBmlYk9z",
        "outputId": "fca74f08-136b-4b07-aa47-f75aebfc0e59"
      },
      "execution_count": null,
      "outputs": [
        {
          "output_type": "stream",
          "name": "stdout",
          "text": [
            "Coluna:  Confirmed\n",
            "Média mean() 15442.70723242275\n",
            "Soma sum() 1517276871.0\n",
            "Mediana median() 1622.0\n",
            "Desvio Padrão std() 46813.31327228468\n",
            "Mínimo min() 0.0\n",
            "Máximo max() 801422.0\n",
            "\n",
            "\n",
            "Coluna:  Deaths\n",
            "Média mean() 692.5023103855392\n",
            "Soma sum() 68039737.0\n",
            "Mediana median() 31.0\n",
            "Desvio Padrão std() 2712.094163680288\n",
            "Mínimo min() 0.0\n",
            "Máximo max() 42072.0\n",
            "\n",
            "\n",
            "Coluna:  Recovered\n",
            "Média mean() 8392.821418393518\n",
            "Soma sum() 824611490.0\n",
            "Mediana median() 287.0\n",
            "Desvio Padrão std() 47512.47468727016\n",
            "Mínimo min() 0.0\n",
            "Máximo max() 2140614.0\n",
            "\n",
            "\n",
            "Coluna:  Confirmed + Deaths\n",
            "Média mean() 16135.209542808288\n",
            "Soma sum() 1585316608.0\n",
            "Mediana median() 1669.0\n",
            "Desvio Padrão std() 48834.43465482634\n",
            "Mínimo min() 0.0\n",
            "Máximo max() 831366.0\n",
            "\n",
            "\n"
          ]
        }
      ]
    },
    {
      "cell_type": "code",
      "source": [
        "colunas = (corona.select_dtypes(include=['float64']))\n",
        "\n",
        "for coluna in colunas:\n",
        "  print('Coluna:', coluna)\n",
        "  print('\\tMédia mean()', corona[coluna].mean())\n",
        "  print('\\tSoma sum()', corona[coluna].sum())\n",
        "  print('\\tMediana median()', corona[coluna].median())\n",
        "  print('\\tDesvio Padrão std()', corona[coluna].std())\n",
        "  print('\\tMínimo min()', corona[coluna].min())\n",
        "  print('\\tMáximo max()', corona[coluna].max())\n",
        "  print()"
      ],
      "metadata": {
        "id": "EpI5G5UQdkyx",
        "colab": {
          "base_uri": "https://localhost:8080/"
        },
        "outputId": "76fa9e38-4f9d-4d61-de7b-8d82e1becb5f"
      },
      "execution_count": null,
      "outputs": [
        {
          "output_type": "stream",
          "name": "stdout",
          "text": [
            "Coluna: Confirmed\n",
            "\tMédia mean() 15442.70723242275\n",
            "\tSoma sum() 1517276871.0\n",
            "\tMediana median() 1622.0\n",
            "\tDesvio Padrão std() 46813.31327228468\n",
            "\tMínimo min() 0.0\n",
            "\tMáximo max() 801422.0\n",
            "\n",
            "Coluna: Deaths\n",
            "\tMédia mean() 692.5023103855392\n",
            "\tSoma sum() 68039737.0\n",
            "\tMediana median() 31.0\n",
            "\tDesvio Padrão std() 2712.094163680288\n",
            "\tMínimo min() 0.0\n",
            "\tMáximo max() 42072.0\n",
            "\n",
            "Coluna: Recovered\n",
            "\tMédia mean() 8392.821418393518\n",
            "\tSoma sum() 824611490.0\n",
            "\tMediana median() 287.0\n",
            "\tDesvio Padrão std() 47512.47468727016\n",
            "\tMínimo min() 0.0\n",
            "\tMáximo max() 2140614.0\n",
            "\n"
          ]
        }
      ]
    },
    {
      "cell_type": "markdown",
      "source": [
        "# Criando Funções"
      ],
      "metadata": {
        "id": "VQGy4b4fT61y"
      }
    },
    {
      "cell_type": "markdown",
      "source": [
        "\n",
        "```\n",
        "def nome(parametros):\n",
        "  instruções...\n",
        "```"
      ],
      "metadata": {
        "id": "TO7DEK60T9ow"
      }
    },
    {
      "cell_type": "code",
      "source": [
        "# Função somar ()\n",
        "def somar(num1, num2):\n",
        "  return(num1+num2)\n",
        "\n",
        "# Função multiplicar()\n",
        "def multiplicar(num1, num2):\n",
        "  return(num1 * num2)\n",
        "\n",
        "# Função soma_multiplica(num1, num2)\n",
        "# Esta função deve retornar dois resultados separados: soma e multiplicação\n",
        "def soma_multiplica(num1, num2):\n",
        "  return (num1+num2), (num1*num2)"
      ],
      "metadata": {
        "id": "BT2zrb6fUBWm"
      },
      "execution_count": null,
      "outputs": []
    },
    {
      "cell_type": "code",
      "source": [
        "soma_multiplica(2, 3)"
      ],
      "metadata": {
        "colab": {
          "base_uri": "https://localhost:8080/"
        },
        "id": "5l7YQ4ZpUelZ",
        "outputId": "72d13d62-b966-4900-c17c-6aae3fab2c12"
      },
      "execution_count": null,
      "outputs": [
        {
          "output_type": "execute_result",
          "data": {
            "text/plain": [
              "(5, 6)"
            ]
          },
          "metadata": {},
          "execution_count": 7
        }
      ]
    },
    {
      "cell_type": "code",
      "source": [
        "#Armazenando resultados de funções compostas (retorno multiplo)\n",
        "soma, multiplicacao = soma_multiplica(2, 3)"
      ],
      "metadata": {
        "id": "VUl2RdrwUqFL"
      },
      "execution_count": null,
      "outputs": []
    },
    {
      "cell_type": "code",
      "source": [
        "print(soma)\n",
        "print(multiplicacao)"
      ],
      "metadata": {
        "colab": {
          "base_uri": "https://localhost:8080/"
        },
        "id": "otvIWFeWVNCx",
        "outputId": "1224e1db-9e36-40ef-92d6-e2a73bad422f"
      },
      "execution_count": null,
      "outputs": [
        {
          "output_type": "stream",
          "name": "stdout",
          "text": [
            "5\n",
            "6\n"
          ]
        }
      ]
    },
    {
      "cell_type": "code",
      "source": [
        "# Podemos armazenar apenas um resultado da resposta\n",
        "soma = 0\n",
        "multiplicacao = 0\n",
        "\n",
        "_, multiplicacao = soma_multiplica(2, 3)\n",
        "print(soma)\n",
        "print(multiplicacao)"
      ],
      "metadata": {
        "colab": {
          "base_uri": "https://localhost:8080/"
        },
        "id": "ZYDaNwmaVQ8B",
        "outputId": "8576e412-ff8b-4046-b486-9a87461fd504"
      },
      "execution_count": null,
      "outputs": [
        {
          "output_type": "stream",
          "name": "stdout",
          "text": [
            "0\n",
            "6\n"
          ]
        }
      ]
    },
    {
      "cell_type": "code",
      "source": [
        "#Função com listas\n",
        "#Função para soma de múltiplos valores\n",
        "def somar2(valores):\n",
        "  return sum(valores)"
      ],
      "metadata": {
        "id": "P9Ih9PJqVgAe"
      },
      "execution_count": null,
      "outputs": []
    },
    {
      "cell_type": "code",
      "source": [
        "somar2([1,2,3,4,5,6,7,8,9,10])"
      ],
      "metadata": {
        "colab": {
          "base_uri": "https://localhost:8080/"
        },
        "id": "zIBrkwLFVq6t",
        "outputId": "ad9aefab-fff0-430b-f5b0-6768cbb4bfa2"
      },
      "execution_count": null,
      "outputs": [
        {
          "output_type": "execute_result",
          "data": {
            "text/plain": [
              "55"
            ]
          },
          "metadata": {},
          "execution_count": 16
        }
      ]
    },
    {
      "cell_type": "code",
      "source": [
        "# Agora que você já sabe criar funções, crie uma que mostre as estatísticas\n",
        "# de todas as colunas númericas (float64) de um DataFrame\n",
        "def estatisticas(dataframe):\n",
        "  colunas = (dataframe.select_dtypes(include=['float64']))\n",
        "\n",
        "  for coluna in colunas: \n",
        "    print('Coluna:', coluna)\n",
        "    print('\\tMédia mean()', corona[coluna].mean())\n",
        "    print('\\tSoma sum()', corona[coluna].sum())\n",
        "    print('\\tMediana median()', corona[coluna].median())\n",
        "    print('\\tDesvio Padrão std()', corona[coluna].std())\n",
        "    print('\\tMínimo min()', corona[coluna].min())\n",
        "    print('\\tMáximo max()', corona[coluna].max())\n",
        "    print()"
      ],
      "metadata": {
        "id": "6tdskU-AV4Bn"
      },
      "execution_count": null,
      "outputs": []
    },
    {
      "cell_type": "code",
      "source": [
        "estatisticas(corona)"
      ],
      "metadata": {
        "colab": {
          "base_uri": "https://localhost:8080/"
        },
        "id": "zPoP2rmdWPPM",
        "outputId": "6fc1718c-2053-4691-9929-2ee663698d0f"
      },
      "execution_count": null,
      "outputs": [
        {
          "output_type": "stream",
          "name": "stdout",
          "text": [
            "Coluna: Confirmed\n",
            "\tMédia mean() 15442.70723242275\n",
            "\tSoma sum() 1517276871.0\n",
            "\tMediana median() 1622.0\n",
            "\tDesvio Padrão std() 46813.31327228468\n",
            "\tMínimo min() 0.0\n",
            "\tMáximo max() 801422.0\n",
            "\n",
            "Coluna: Deaths\n",
            "\tMédia mean() 692.5023103855392\n",
            "\tSoma sum() 68039737.0\n",
            "\tMediana median() 31.0\n",
            "\tDesvio Padrão std() 2712.094163680288\n",
            "\tMínimo min() 0.0\n",
            "\tMáximo max() 42072.0\n",
            "\n",
            "Coluna: Recovered\n",
            "\tMédia mean() 8392.821418393518\n",
            "\tSoma sum() 824611490.0\n",
            "\tMediana median() 287.0\n",
            "\tDesvio Padrão std() 47512.47468727016\n",
            "\tMínimo min() 0.0\n",
            "\tMáximo max() 2140614.0\n",
            "\n"
          ]
        }
      ]
    },
    {
      "cell_type": "code",
      "source": [
        "corona['nova'] = corona['Confirmed'] * 2"
      ],
      "metadata": {
        "id": "K7u3qqY3WUyS"
      },
      "execution_count": null,
      "outputs": []
    },
    {
      "cell_type": "code",
      "source": [
        "estatisticas(corona)"
      ],
      "metadata": {
        "colab": {
          "base_uri": "https://localhost:8080/"
        },
        "id": "R3JxdBITWZtt",
        "outputId": "59d60d6c-76d9-4aa4-8cd4-164e271b63ae"
      },
      "execution_count": null,
      "outputs": [
        {
          "output_type": "stream",
          "name": "stdout",
          "text": [
            "Coluna: Confirmed\n",
            "\tMédia mean() 15442.70723242275\n",
            "\tSoma sum() 1517276871.0\n",
            "\tMediana median() 1622.0\n",
            "\tDesvio Padrão std() 46813.31327228468\n",
            "\tMínimo min() 0.0\n",
            "\tMáximo max() 801422.0\n",
            "\n",
            "Coluna: Deaths\n",
            "\tMédia mean() 692.5023103855392\n",
            "\tSoma sum() 68039737.0\n",
            "\tMediana median() 31.0\n",
            "\tDesvio Padrão std() 2712.094163680288\n",
            "\tMínimo min() 0.0\n",
            "\tMáximo max() 42072.0\n",
            "\n",
            "Coluna: Recovered\n",
            "\tMédia mean() 8392.821418393518\n",
            "\tSoma sum() 824611490.0\n",
            "\tMediana median() 287.0\n",
            "\tDesvio Padrão std() 47512.47468727016\n",
            "\tMínimo min() 0.0\n",
            "\tMáximo max() 2140614.0\n",
            "\n",
            "Coluna: nova\n",
            "\tMédia mean() 30885.4144648455\n",
            "\tSoma sum() 3034553742.0\n",
            "\tMediana median() 3244.0\n",
            "\tDesvio Padrão std() 93626.62654456936\n",
            "\tMínimo min() 0.0\n",
            "\tMáximo max() 1602844.0\n",
            "\n"
          ]
        }
      ]
    },
    {
      "cell_type": "markdown",
      "source": [
        "# Vamos Praticar\n",
        "Carregar o Dataset (`notas_alunos.csv`) e:\n",
        "*   Criar uma função para mostrar as informações (inspeções) iniciais\n",
        "*   Criar uma função para mostrar dados estatísticos como: média, mediana e desvio padrão"
      ],
      "metadata": {
        "id": "n88YtopCWh3E"
      }
    },
    {
      "cell_type": "code",
      "source": [
        "notas = pd.read_csv('http://emsapi.esy.es/datasets/notas_alunos.csv', index_col=0)"
      ],
      "metadata": {
        "id": "M11K8fQXWrXM"
      },
      "execution_count": null,
      "outputs": []
    },
    {
      "cell_type": "code",
      "source": [
        "def info(dados):\n",
        "  print(dados.info())\n",
        "  print(dados.describe())\n",
        "\n",
        "def estatisticas(dados):\n",
        "  colunas = (dados.select_dtypes(include=['float64']))\n",
        "\n",
        "  for coluna in colunas:\n",
        "    print('Coluna:', coluna)\n",
        "    print('\\tMédia mean()', dados[coluna].mean())\n",
        "    print('\\tMediana median()', dados[coluna].median())\n",
        "    print('\\tDesvio Padrão std()', dados[coluna].std())\n",
        "    print()  "
      ],
      "metadata": {
        "id": "pEgZ2lHYW1kn"
      },
      "execution_count": null,
      "outputs": []
    },
    {
      "cell_type": "code",
      "source": [
        "info(notas)"
      ],
      "metadata": {
        "colab": {
          "base_uri": "https://localhost:8080/"
        },
        "id": "jb9rbox0XI5C",
        "outputId": "f3c3c9e3-91f8-4fbc-d93b-70075d94a6d3"
      },
      "execution_count": null,
      "outputs": [
        {
          "output_type": "stream",
          "name": "stdout",
          "text": [
            "<class 'pandas.core.frame.DataFrame'>\n",
            "Index: 50 entries, Abel Marques to Zeferino Granjeia\n",
            "Data columns (total 5 columns):\n",
            " #   Column  Non-Null Count  Dtype  \n",
            "---  ------  --------------  -----  \n",
            " 0   Nota1   50 non-null     float64\n",
            " 1   Nota2   50 non-null     float64\n",
            " 2   Nota3   50 non-null     float64\n",
            " 3   Nota4   50 non-null     float64\n",
            " 4   Nota5   50 non-null     float64\n",
            "dtypes: float64(5)\n",
            "memory usage: 2.3+ KB\n",
            "None\n",
            "           Nota1      Nota2      Nota3      Nota4      Nota5\n",
            "count  50.000000  50.000000  50.000000  50.000000  50.000000\n",
            "mean    4.737200   5.760000   4.480000   5.520000   5.620000\n",
            "std     2.992104   3.034227   2.936331   3.382066   3.069867\n",
            "min     0.000000   0.000000   0.000000   0.000000   0.000000\n",
            "25%     2.000000   3.000000   2.000000   3.000000   3.000000\n",
            "50%     5.500000   6.500000   4.500000   5.500000   6.000000\n",
            "75%     7.000000   8.000000   7.000000   8.000000   8.000000\n",
            "max     9.080000  10.000000   9.000000  10.000000  10.000000\n"
          ]
        }
      ]
    },
    {
      "cell_type": "code",
      "source": [
        "estatisticas(notas)"
      ],
      "metadata": {
        "colab": {
          "base_uri": "https://localhost:8080/"
        },
        "id": "Unm8x6Z0XNJ0",
        "outputId": "ca7fde0a-89e0-4462-a8b6-7201210e192b"
      },
      "execution_count": null,
      "outputs": [
        {
          "output_type": "stream",
          "name": "stdout",
          "text": [
            "Coluna: Nota1\n",
            "\tMédia mean() 4.7372000000000005\n",
            "\tMediana median() 5.5\n",
            "\tDesvio Padrão std() 2.992103921582776\n",
            "\n",
            "Coluna: Nota2\n",
            "\tMédia mean() 5.76\n",
            "\tMediana median() 6.5\n",
            "\tDesvio Padrão std() 3.0342265261916253\n",
            "\n",
            "Coluna: Nota3\n",
            "\tMédia mean() 4.48\n",
            "\tMediana median() 4.5\n",
            "\tDesvio Padrão std() 2.936331183011639\n",
            "\n",
            "Coluna: Nota4\n",
            "\tMédia mean() 5.52\n",
            "\tMediana median() 5.5\n",
            "\tDesvio Padrão std() 3.3820655444474723\n",
            "\n",
            "Coluna: Nota5\n",
            "\tMédia mean() 5.62\n",
            "\tMediana median() 6.0\n",
            "\tDesvio Padrão std() 3.0698667125223955\n",
            "\n"
          ]
        }
      ]
    },
    {
      "cell_type": "code",
      "source": [
        "notas.head()"
      ],
      "metadata": {
        "colab": {
          "base_uri": "https://localhost:8080/",
          "height": 238
        },
        "id": "--MTVTcoXS3S",
        "outputId": "628c4472-56be-458d-8eb8-b92d08d79ec9"
      },
      "execution_count": null,
      "outputs": [
        {
          "output_type": "execute_result",
          "data": {
            "text/plain": [
              "                    Nota1  Nota2  Nota3  Nota4  Nota5\n",
              "Nome                                                 \n",
              "Abel Marques         3.78    9.0    2.0    3.0    9.0\n",
              "Abigail Camillo      8.00    2.0    7.0    2.0    2.0\n",
              "Adriana Passos       8.00    6.0    1.0    6.0    2.0\n",
              "Ajuricaba Casquero   6.00    4.0    5.0   10.0   10.0\n",
              "Aline Beltrán        0.00    2.0    9.0    2.0    3.0"
            ],
            "text/html": [
              "\n",
              "  <div id=\"df-5f8d59d8-62e9-400d-955e-7a6f15f47fb4\">\n",
              "    <div class=\"colab-df-container\">\n",
              "      <div>\n",
              "<style scoped>\n",
              "    .dataframe tbody tr th:only-of-type {\n",
              "        vertical-align: middle;\n",
              "    }\n",
              "\n",
              "    .dataframe tbody tr th {\n",
              "        vertical-align: top;\n",
              "    }\n",
              "\n",
              "    .dataframe thead th {\n",
              "        text-align: right;\n",
              "    }\n",
              "</style>\n",
              "<table border=\"1\" class=\"dataframe\">\n",
              "  <thead>\n",
              "    <tr style=\"text-align: right;\">\n",
              "      <th></th>\n",
              "      <th>Nota1</th>\n",
              "      <th>Nota2</th>\n",
              "      <th>Nota3</th>\n",
              "      <th>Nota4</th>\n",
              "      <th>Nota5</th>\n",
              "    </tr>\n",
              "    <tr>\n",
              "      <th>Nome</th>\n",
              "      <th></th>\n",
              "      <th></th>\n",
              "      <th></th>\n",
              "      <th></th>\n",
              "      <th></th>\n",
              "    </tr>\n",
              "  </thead>\n",
              "  <tbody>\n",
              "    <tr>\n",
              "      <th>Abel Marques</th>\n",
              "      <td>3.78</td>\n",
              "      <td>9.0</td>\n",
              "      <td>2.0</td>\n",
              "      <td>3.0</td>\n",
              "      <td>9.0</td>\n",
              "    </tr>\n",
              "    <tr>\n",
              "      <th>Abigail Camillo</th>\n",
              "      <td>8.00</td>\n",
              "      <td>2.0</td>\n",
              "      <td>7.0</td>\n",
              "      <td>2.0</td>\n",
              "      <td>2.0</td>\n",
              "    </tr>\n",
              "    <tr>\n",
              "      <th>Adriana Passos</th>\n",
              "      <td>8.00</td>\n",
              "      <td>6.0</td>\n",
              "      <td>1.0</td>\n",
              "      <td>6.0</td>\n",
              "      <td>2.0</td>\n",
              "    </tr>\n",
              "    <tr>\n",
              "      <th>Ajuricaba Casquero</th>\n",
              "      <td>6.00</td>\n",
              "      <td>4.0</td>\n",
              "      <td>5.0</td>\n",
              "      <td>10.0</td>\n",
              "      <td>10.0</td>\n",
              "    </tr>\n",
              "    <tr>\n",
              "      <th>Aline Beltrán</th>\n",
              "      <td>0.00</td>\n",
              "      <td>2.0</td>\n",
              "      <td>9.0</td>\n",
              "      <td>2.0</td>\n",
              "      <td>3.0</td>\n",
              "    </tr>\n",
              "  </tbody>\n",
              "</table>\n",
              "</div>\n",
              "      <button class=\"colab-df-convert\" onclick=\"convertToInteractive('df-5f8d59d8-62e9-400d-955e-7a6f15f47fb4')\"\n",
              "              title=\"Convert this dataframe to an interactive table.\"\n",
              "              style=\"display:none;\">\n",
              "        \n",
              "  <svg xmlns=\"http://www.w3.org/2000/svg\" height=\"24px\"viewBox=\"0 0 24 24\"\n",
              "       width=\"24px\">\n",
              "    <path d=\"M0 0h24v24H0V0z\" fill=\"none\"/>\n",
              "    <path d=\"M18.56 5.44l.94 2.06.94-2.06 2.06-.94-2.06-.94-.94-2.06-.94 2.06-2.06.94zm-11 1L8.5 8.5l.94-2.06 2.06-.94-2.06-.94L8.5 2.5l-.94 2.06-2.06.94zm10 10l.94 2.06.94-2.06 2.06-.94-2.06-.94-.94-2.06-.94 2.06-2.06.94z\"/><path d=\"M17.41 7.96l-1.37-1.37c-.4-.4-.92-.59-1.43-.59-.52 0-1.04.2-1.43.59L10.3 9.45l-7.72 7.72c-.78.78-.78 2.05 0 2.83L4 21.41c.39.39.9.59 1.41.59.51 0 1.02-.2 1.41-.59l7.78-7.78 2.81-2.81c.8-.78.8-2.07 0-2.86zM5.41 20L4 18.59l7.72-7.72 1.47 1.35L5.41 20z\"/>\n",
              "  </svg>\n",
              "      </button>\n",
              "      \n",
              "  <style>\n",
              "    .colab-df-container {\n",
              "      display:flex;\n",
              "      flex-wrap:wrap;\n",
              "      gap: 12px;\n",
              "    }\n",
              "\n",
              "    .colab-df-convert {\n",
              "      background-color: #E8F0FE;\n",
              "      border: none;\n",
              "      border-radius: 50%;\n",
              "      cursor: pointer;\n",
              "      display: none;\n",
              "      fill: #1967D2;\n",
              "      height: 32px;\n",
              "      padding: 0 0 0 0;\n",
              "      width: 32px;\n",
              "    }\n",
              "\n",
              "    .colab-df-convert:hover {\n",
              "      background-color: #E2EBFA;\n",
              "      box-shadow: 0px 1px 2px rgba(60, 64, 67, 0.3), 0px 1px 3px 1px rgba(60, 64, 67, 0.15);\n",
              "      fill: #174EA6;\n",
              "    }\n",
              "\n",
              "    [theme=dark] .colab-df-convert {\n",
              "      background-color: #3B4455;\n",
              "      fill: #D2E3FC;\n",
              "    }\n",
              "\n",
              "    [theme=dark] .colab-df-convert:hover {\n",
              "      background-color: #434B5C;\n",
              "      box-shadow: 0px 1px 3px 1px rgba(0, 0, 0, 0.15);\n",
              "      filter: drop-shadow(0px 1px 2px rgba(0, 0, 0, 0.3));\n",
              "      fill: #FFFFFF;\n",
              "    }\n",
              "  </style>\n",
              "\n",
              "      <script>\n",
              "        const buttonEl =\n",
              "          document.querySelector('#df-5f8d59d8-62e9-400d-955e-7a6f15f47fb4 button.colab-df-convert');\n",
              "        buttonEl.style.display =\n",
              "          google.colab.kernel.accessAllowed ? 'block' : 'none';\n",
              "\n",
              "        async function convertToInteractive(key) {\n",
              "          const element = document.querySelector('#df-5f8d59d8-62e9-400d-955e-7a6f15f47fb4');\n",
              "          const dataTable =\n",
              "            await google.colab.kernel.invokeFunction('convertToInteractive',\n",
              "                                                     [key], {});\n",
              "          if (!dataTable) return;\n",
              "\n",
              "          const docLinkHtml = 'Like what you see? Visit the ' +\n",
              "            '<a target=\"_blank\" href=https://colab.research.google.com/notebooks/data_table.ipynb>data table notebook</a>'\n",
              "            + ' to learn more about interactive tables.';\n",
              "          element.innerHTML = '';\n",
              "          dataTable['output_type'] = 'display_data';\n",
              "          await google.colab.output.renderOutput(dataTable, element);\n",
              "          const docLink = document.createElement('div');\n",
              "          docLink.innerHTML = docLinkHtml;\n",
              "          element.appendChild(docLink);\n",
              "        }\n",
              "      </script>\n",
              "    </div>\n",
              "  </div>\n",
              "  "
            ]
          },
          "metadata": {},
          "execution_count": 25
        }
      ]
    },
    {
      "cell_type": "code",
      "source": [
        "notas['media'] = (notas['Nota1']+notas['Nota2']+notas['Nota3']+notas['Nota4']+notas['Nota5'])/5\n"
      ],
      "metadata": {
        "id": "P_Cpeod_XV4d"
      },
      "execution_count": null,
      "outputs": []
    },
    {
      "cell_type": "code",
      "source": [
        "estatisticas(notas)"
      ],
      "metadata": {
        "colab": {
          "base_uri": "https://localhost:8080/"
        },
        "id": "4ay7RBGIXjiG",
        "outputId": "a6c015f4-3aec-45d2-af9d-fb7a36aa7484"
      },
      "execution_count": null,
      "outputs": [
        {
          "output_type": "stream",
          "name": "stdout",
          "text": [
            "Coluna: Nota1\n",
            "\tMédia mean() 4.7372000000000005\n",
            "\tMediana median() 5.5\n",
            "\tDesvio Padrão std() 2.992103921582776\n",
            "\n",
            "Coluna: Nota2\n",
            "\tMédia mean() 5.76\n",
            "\tMediana median() 6.5\n",
            "\tDesvio Padrão std() 3.0342265261916253\n",
            "\n",
            "Coluna: Nota3\n",
            "\tMédia mean() 4.48\n",
            "\tMediana median() 4.5\n",
            "\tDesvio Padrão std() 2.936331183011639\n",
            "\n",
            "Coluna: Nota4\n",
            "\tMédia mean() 5.52\n",
            "\tMediana median() 5.5\n",
            "\tDesvio Padrão std() 3.3820655444474723\n",
            "\n",
            "Coluna: Nota5\n",
            "\tMédia mean() 5.62\n",
            "\tMediana median() 6.0\n",
            "\tDesvio Padrão std() 3.0698667125223955\n",
            "\n",
            "Coluna: media\n",
            "\tMédia mean() 5.223439999999999\n",
            "\tMediana median() 5.4\n",
            "\tDesvio Padrão std() 1.219504083885021\n",
            "\n"
          ]
        }
      ]
    },
    {
      "cell_type": "code",
      "source": [
        "notas.head()"
      ],
      "metadata": {
        "colab": {
          "base_uri": "https://localhost:8080/",
          "height": 238
        },
        "id": "pX4DhOXOXox9",
        "outputId": "d2433243-c858-472d-b289-d7403eb974e0"
      },
      "execution_count": null,
      "outputs": [
        {
          "output_type": "execute_result",
          "data": {
            "text/plain": [
              "                    Nota1  Nota2  Nota3  Nota4  Nota5  media\n",
              "Nome                                                        \n",
              "Abel Marques         3.78    9.0    2.0    3.0    9.0  5.356\n",
              "Abigail Camillo      8.00    2.0    7.0    2.0    2.0  4.200\n",
              "Adriana Passos       8.00    6.0    1.0    6.0    2.0  4.600\n",
              "Ajuricaba Casquero   6.00    4.0    5.0   10.0   10.0  7.000\n",
              "Aline Beltrán        0.00    2.0    9.0    2.0    3.0  3.200"
            ],
            "text/html": [
              "\n",
              "  <div id=\"df-36279cda-35e8-488f-a09b-8a1ca035f1e1\">\n",
              "    <div class=\"colab-df-container\">\n",
              "      <div>\n",
              "<style scoped>\n",
              "    .dataframe tbody tr th:only-of-type {\n",
              "        vertical-align: middle;\n",
              "    }\n",
              "\n",
              "    .dataframe tbody tr th {\n",
              "        vertical-align: top;\n",
              "    }\n",
              "\n",
              "    .dataframe thead th {\n",
              "        text-align: right;\n",
              "    }\n",
              "</style>\n",
              "<table border=\"1\" class=\"dataframe\">\n",
              "  <thead>\n",
              "    <tr style=\"text-align: right;\">\n",
              "      <th></th>\n",
              "      <th>Nota1</th>\n",
              "      <th>Nota2</th>\n",
              "      <th>Nota3</th>\n",
              "      <th>Nota4</th>\n",
              "      <th>Nota5</th>\n",
              "      <th>media</th>\n",
              "    </tr>\n",
              "    <tr>\n",
              "      <th>Nome</th>\n",
              "      <th></th>\n",
              "      <th></th>\n",
              "      <th></th>\n",
              "      <th></th>\n",
              "      <th></th>\n",
              "      <th></th>\n",
              "    </tr>\n",
              "  </thead>\n",
              "  <tbody>\n",
              "    <tr>\n",
              "      <th>Abel Marques</th>\n",
              "      <td>3.78</td>\n",
              "      <td>9.0</td>\n",
              "      <td>2.0</td>\n",
              "      <td>3.0</td>\n",
              "      <td>9.0</td>\n",
              "      <td>5.356</td>\n",
              "    </tr>\n",
              "    <tr>\n",
              "      <th>Abigail Camillo</th>\n",
              "      <td>8.00</td>\n",
              "      <td>2.0</td>\n",
              "      <td>7.0</td>\n",
              "      <td>2.0</td>\n",
              "      <td>2.0</td>\n",
              "      <td>4.200</td>\n",
              "    </tr>\n",
              "    <tr>\n",
              "      <th>Adriana Passos</th>\n",
              "      <td>8.00</td>\n",
              "      <td>6.0</td>\n",
              "      <td>1.0</td>\n",
              "      <td>6.0</td>\n",
              "      <td>2.0</td>\n",
              "      <td>4.600</td>\n",
              "    </tr>\n",
              "    <tr>\n",
              "      <th>Ajuricaba Casquero</th>\n",
              "      <td>6.00</td>\n",
              "      <td>4.0</td>\n",
              "      <td>5.0</td>\n",
              "      <td>10.0</td>\n",
              "      <td>10.0</td>\n",
              "      <td>7.000</td>\n",
              "    </tr>\n",
              "    <tr>\n",
              "      <th>Aline Beltrán</th>\n",
              "      <td>0.00</td>\n",
              "      <td>2.0</td>\n",
              "      <td>9.0</td>\n",
              "      <td>2.0</td>\n",
              "      <td>3.0</td>\n",
              "      <td>3.200</td>\n",
              "    </tr>\n",
              "  </tbody>\n",
              "</table>\n",
              "</div>\n",
              "      <button class=\"colab-df-convert\" onclick=\"convertToInteractive('df-36279cda-35e8-488f-a09b-8a1ca035f1e1')\"\n",
              "              title=\"Convert this dataframe to an interactive table.\"\n",
              "              style=\"display:none;\">\n",
              "        \n",
              "  <svg xmlns=\"http://www.w3.org/2000/svg\" height=\"24px\"viewBox=\"0 0 24 24\"\n",
              "       width=\"24px\">\n",
              "    <path d=\"M0 0h24v24H0V0z\" fill=\"none\"/>\n",
              "    <path d=\"M18.56 5.44l.94 2.06.94-2.06 2.06-.94-2.06-.94-.94-2.06-.94 2.06-2.06.94zm-11 1L8.5 8.5l.94-2.06 2.06-.94-2.06-.94L8.5 2.5l-.94 2.06-2.06.94zm10 10l.94 2.06.94-2.06 2.06-.94-2.06-.94-.94-2.06-.94 2.06-2.06.94z\"/><path d=\"M17.41 7.96l-1.37-1.37c-.4-.4-.92-.59-1.43-.59-.52 0-1.04.2-1.43.59L10.3 9.45l-7.72 7.72c-.78.78-.78 2.05 0 2.83L4 21.41c.39.39.9.59 1.41.59.51 0 1.02-.2 1.41-.59l7.78-7.78 2.81-2.81c.8-.78.8-2.07 0-2.86zM5.41 20L4 18.59l7.72-7.72 1.47 1.35L5.41 20z\"/>\n",
              "  </svg>\n",
              "      </button>\n",
              "      \n",
              "  <style>\n",
              "    .colab-df-container {\n",
              "      display:flex;\n",
              "      flex-wrap:wrap;\n",
              "      gap: 12px;\n",
              "    }\n",
              "\n",
              "    .colab-df-convert {\n",
              "      background-color: #E8F0FE;\n",
              "      border: none;\n",
              "      border-radius: 50%;\n",
              "      cursor: pointer;\n",
              "      display: none;\n",
              "      fill: #1967D2;\n",
              "      height: 32px;\n",
              "      padding: 0 0 0 0;\n",
              "      width: 32px;\n",
              "    }\n",
              "\n",
              "    .colab-df-convert:hover {\n",
              "      background-color: #E2EBFA;\n",
              "      box-shadow: 0px 1px 2px rgba(60, 64, 67, 0.3), 0px 1px 3px 1px rgba(60, 64, 67, 0.15);\n",
              "      fill: #174EA6;\n",
              "    }\n",
              "\n",
              "    [theme=dark] .colab-df-convert {\n",
              "      background-color: #3B4455;\n",
              "      fill: #D2E3FC;\n",
              "    }\n",
              "\n",
              "    [theme=dark] .colab-df-convert:hover {\n",
              "      background-color: #434B5C;\n",
              "      box-shadow: 0px 1px 3px 1px rgba(0, 0, 0, 0.15);\n",
              "      filter: drop-shadow(0px 1px 2px rgba(0, 0, 0, 0.3));\n",
              "      fill: #FFFFFF;\n",
              "    }\n",
              "  </style>\n",
              "\n",
              "      <script>\n",
              "        const buttonEl =\n",
              "          document.querySelector('#df-36279cda-35e8-488f-a09b-8a1ca035f1e1 button.colab-df-convert');\n",
              "        buttonEl.style.display =\n",
              "          google.colab.kernel.accessAllowed ? 'block' : 'none';\n",
              "\n",
              "        async function convertToInteractive(key) {\n",
              "          const element = document.querySelector('#df-36279cda-35e8-488f-a09b-8a1ca035f1e1');\n",
              "          const dataTable =\n",
              "            await google.colab.kernel.invokeFunction('convertToInteractive',\n",
              "                                                     [key], {});\n",
              "          if (!dataTable) return;\n",
              "\n",
              "          const docLinkHtml = 'Like what you see? Visit the ' +\n",
              "            '<a target=\"_blank\" href=https://colab.research.google.com/notebooks/data_table.ipynb>data table notebook</a>'\n",
              "            + ' to learn more about interactive tables.';\n",
              "          element.innerHTML = '';\n",
              "          dataTable['output_type'] = 'display_data';\n",
              "          await google.colab.output.renderOutput(dataTable, element);\n",
              "          const docLink = document.createElement('div');\n",
              "          docLink.innerHTML = docLinkHtml;\n",
              "          element.appendChild(docLink);\n",
              "        }\n",
              "      </script>\n",
              "    </div>\n",
              "  </div>\n",
              "  "
            ]
          },
          "metadata": {},
          "execution_count": 28
        }
      ]
    },
    {
      "cell_type": "code",
      "source": [
        "# Função com retorno de \"lista\"\n",
        "def estatisticas_lista(dados):\n",
        "  colunas = (dados.select_dtypes(include=['float64']))\n",
        "  resultado = []\n",
        "\n",
        "  for coluna in colunas: \n",
        "    resultado.append(coluna)\n",
        "    resultado.append(\n",
        "        [\n",
        "         round(dados[coluna].mean(),2), \n",
        "         round(dados[coluna].median(),2),\n",
        "         round(dados[coluna].std(),2)\n",
        "        ]\n",
        "    )\n",
        "  return resultado"
      ],
      "metadata": {
        "id": "nzp8TfWkXrFN"
      },
      "execution_count": null,
      "outputs": []
    },
    {
      "cell_type": "code",
      "source": [
        "result = estatisticas_lista(notas)"
      ],
      "metadata": {
        "id": "2rTbMBQ7YOK6"
      },
      "execution_count": null,
      "outputs": []
    },
    {
      "cell_type": "code",
      "source": [
        "result[1][1]"
      ],
      "metadata": {
        "colab": {
          "base_uri": "https://localhost:8080/"
        },
        "id": "bo6AkXBXYR1r",
        "outputId": "70f14f62-ff9d-4557-b5d8-aa42d9a693e2"
      },
      "execution_count": null,
      "outputs": [
        {
          "output_type": "execute_result",
          "data": {
            "text/plain": [
              "5.5"
            ]
          },
          "metadata": {},
          "execution_count": 31
        }
      ]
    }
  ]
}